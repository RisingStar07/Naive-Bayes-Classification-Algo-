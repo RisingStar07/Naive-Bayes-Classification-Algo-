{
  "metadata": {
    "kernelspec": {
      "language": "python",
      "display_name": "Python 3",
      "name": "python3"
    },
    "language_info": {
      "pygments_lexer": "ipython3",
      "nbconvert_exporter": "python",
      "version": "3.6.4",
      "file_extension": ".py",
      "codemirror_mode": {
        "name": "ipython",
        "version": 3
      },
      "name": "python",
      "mimetype": "text/x-python"
    },
    "colab": {
      "name": "Naive_Bayes_Classifier.ipynb",
      "provenance": []
    }
  },
  "nbformat_minor": 0,
  "nbformat": 4,
  "cells": [
    {
      "cell_type": "code",
      "source": [
        "import pandas as pd\n",
        "import numpy as np\n",
        "import matplotlib.pyplot as plt\n",
        "import seaborn as sns\n",
        "\n",
        "dsa_train=pd.read_csv('train.csv')\n",
        "dsa_test=pd.read_csv('test.csv')"
      ],
      "metadata": {
        "_uuid": "d629ff2d2480ee46fbb7e2d37f6b5fab8052498a",
        "_cell_guid": "79c7e3d0-c299-4dcb-8224-4455121ee9b0",
        "trusted": true,
        "id": "3rQaUPyeFK9E"
      },
      "execution_count": null,
      "outputs": []
    },
    {
      "cell_type": "markdown",
      "source": [
        "Some feature engineering below (for simplicity I used 3 features only: Class, Sex and Age):"
      ],
      "metadata": {
        "id": "oUqoFNoaFK9H"
      }
    },
    {
      "cell_type": "code",
      "source": [
        "sexos={\"male\":0, \"female\":1}\n",
        "dsa_train.Sex=[sexos[item] for item in dsa_train.Sex]\n",
        "dsa_test.Sex=[sexos[item] for item in dsa_test.Sex]\n",
        "\n",
        "dsa_train.Age.fillna(dsa_train.Age.mean(), inplace=True)\n",
        "dsa_test.Age.fillna(dsa_test.Age.mean(), inplace=True)\n",
        "\n",
        "dsa_train.Age=dsa_train.Age.astype(int)\n",
        "dsa_test.Age=dsa_test.Age.astype(int)\n",
        "\n",
        "#A wild plot has appeared, just for the heck of it\n",
        "sns.violinplot(x='Pclass', y='Age', hue='Survived', data=dsa_train, split=True)\n",
        "\n",
        "#Ages grouped\n",
        "data = [dsa_train, dsa_test]\n",
        "for dataset in data:\n",
        "    dataset.loc[ dataset['Age'] <= 11, 'Age'] = 0\n",
        "    dataset.loc[(dataset['Age'] > 11) & (dataset['Age'] <= 18), 'Age'] = 1\n",
        "    dataset.loc[(dataset['Age'] > 18) & (dataset['Age'] <= 22), 'Age'] = 2\n",
        "    dataset.loc[(dataset['Age'] > 22) & (dataset['Age'] <= 27), 'Age'] = 3\n",
        "    dataset.loc[(dataset['Age'] > 27) & (dataset['Age'] <= 33), 'Age'] = 4\n",
        "    dataset.loc[(dataset['Age'] > 33) & (dataset['Age'] <= 40), 'Age'] = 5\n",
        "    dataset.loc[(dataset['Age'] > 40) & (dataset['Age'] <= 66), 'Age'] = 6\n",
        "    dataset.loc[ dataset['Age'] > 66, 'Age'] = 7"
      ],
      "metadata": {
        "trusted": true,
        "colab": {
          "base_uri": "https://localhost:8080/",
          "height": 279
        },
        "id": "BFLECGhJFK9I",
        "outputId": "6cb1b256-b1fa-42f4-98b2-c53a4cfaf6d1"
      },
      "execution_count": null,
      "outputs": [
        {
          "output_type": "display_data",
          "data": {
            "text/plain": [
              "<Figure size 432x288 with 1 Axes>"
            ],
            "image/png": "[encoded data removed]"
          },
          "metadata": {
            "needs_background": "light"
          }
        }
      ]
    },
    {
      "cell_type": "code",
      "source": [
        "#probabilities of the features\n",
        "    \n",
        "Class_counts=dsa_train['Pclass'].value_counts()  \n",
        "p_Class=Class_counts/len(dsa_train)\n",
        "\n",
        "Sex_counts=dsa_train['Sex'].value_counts()\n",
        "p_Sex=Sex_counts/len(dsa_train)\n",
        "\n",
        "Age_counts=dsa_train['Age'].value_counts()\n",
        "p_Age=Age_counts/len(dsa_train)\n",
        "\n",
        "# Survival and Death probabilities\n",
        "y_counts=dsa_train['Survived'].value_counts()\n",
        "p_y=y_counts/len(dsa_train)\n",
        "\n",
        "dsa_survived=dsa_train.loc[dsa_train['Survived'] == 1]\n",
        "dsa_died=dsa_train.loc[dsa_train['Survived'] == 0]\n",
        "\n",
        "# Conditional probabilities\n",
        "#class/survived\n",
        "class_survived_counts=dsa_survived['Pclass'].value_counts()  \n",
        "p_class_survived=class_survived_counts/len(dsa_survived)\n",
        "\n",
        "# class/died\n",
        "class_died_counts=dsa_died['Pclass'].value_counts()  \n",
        "p_class_died=class_died_counts/len(dsa_died)\n",
        "\n",
        "#sex/survived\n",
        "sex_survived_counts=dsa_survived['Sex'].value_counts()  \n",
        "p_sex_survived=sex_survived_counts/len(dsa_survived)\n",
        "\n",
        "sex_died_counts=dsa_died['Sex'].value_counts()  \n",
        "p_sex_died=sex_died_counts/len(dsa_died)\n",
        "\n",
        "#Age/survived\n",
        "age_survived_counts=dsa_survived['Age'].value_counts()  \n",
        "p_age_survived=age_survived_counts/len(dsa_survived)\n",
        "\n",
        "age_died_counts=dsa_died['Age'].value_counts()  \n",
        "p_age_died=age_died_counts/len(dsa_died)"
      ],
      "metadata": {
        "trusted": true,
        "id": "16582RUhFK9K"
      },
      "execution_count": null,
      "outputs": []
    },
    {
      "cell_type": "markdown",
      "source": [
        "Bayes function defined below:"
      ],
      "metadata": {
        "id": "yDO7dwT0FK9L"
      }
    },
    {
      "cell_type": "code",
      "source": [
        "def Bayes(py, px1y, px2y, px3y, px1, px2, px3):\n",
        "    numerator=px1y*px2y*px3y*py\n",
        "    denominator=px1*px2*px3\n",
        "    p=numerator/denominator\n",
        "    return p"
      ],
      "metadata": {
        "trusted": true,
        "id": "7ku-Jz2_FK9M"
      },
      "execution_count": null,
      "outputs": []
    },
    {
      "cell_type": "markdown",
      "source": [
        "The probabilities of survival for each passenger calculated below:"
      ],
      "metadata": {
        "id": "0lIiouyxFK9N"
      }
    },
    {
      "cell_type": "code",
      "source": [
        "result_array=[]\n",
        "\n",
        "for i in range(0,418):\n",
        "    feature_class=dsa_test.iloc[i]['Pclass']\n",
        "    feature_sex=dsa_test.iloc[i]['Sex']\n",
        "    feature_age=dsa_test.iloc[i]['Age']\n",
        "    \n",
        "    P_Y1=Bayes(p_y[1], p_class_survived[feature_class], p_sex_survived[feature_sex], p_age_survived[feature_age], p_Class[feature_class], p_Sex[feature_sex], p_Age[feature_age])\n",
        "    P_Y0=Bayes(p_y[0], p_class_died[feature_class], p_sex_died[feature_sex], p_age_died[feature_age], p_Class[feature_class], p_Sex[feature_sex], p_Age[feature_age])\n",
        "    \n",
        "    if P_Y0 > P_Y1:\n",
        "        result=0\n",
        "    else:\n",
        "        result=1\n",
        "        \n",
        "    result_array.append(result)\n",
        "\n",
        "\n",
        "output = pd.DataFrame({'PassengerId': dsa_test.PassengerId,'Survived': result_array})\n",
        "output.to_csv('submission.csv', index=False)"
      ],
      "metadata": {
        "trusted": true,
        "id": "0n65jK_AFK9N"
      },
      "execution_count": null,
      "outputs": []
    }
  ]
}